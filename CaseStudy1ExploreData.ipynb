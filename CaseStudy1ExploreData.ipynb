{
 "cells": [
  {
   "cell_type": "markdown",
   "id": "09409531",
   "metadata": {},
   "source": [
    "# Case Study: How does a Bike-Share Navigate Speedy Success?\n",
    "\n",
    "I am going to follow the steps of the data analysis process:\n",
    "\n",
    "* ASK\n",
    "* PREPARE\n",
    "* PROCESS\n",
    "* ANALYZE\n",
    "* SHARE\n",
    "* ACT"
   ]
  },
  {
   "cell_type": "markdown",
   "id": "e29ceb5d",
   "metadata": {},
   "source": [
    "## ASK:\n",
    "\n",
    "#### Goal: \n",
    "    Design marketing strategies aimed at converting casual riders into annual members. \n",
    "    \n",
    "    In order to do that, we need to better understand how annual members and casual riders differ, why casual riders would buy a membership, and how digital media affect their marketing tactics. \n",
    "    \n",
    "### Three questions:\n",
    "#### 1. How do annual members and casual riders use Cyclistic bikes differently?\n",
    "2. Why would casual riders buy Cyclistic annual membership?\n",
    "3. How can Cyclistic use digital media to influence casual riders to become members?\n",
    "\n",
    "#### Answer first question and what to do as data analyst:\n",
    "* A clear statement of the business task\n",
    "* A discription of all data sources used\n",
    "* Documentation of any clearning or manipulation of data\n",
    "* A summary of your analysis\n",
    "* Supporting visualizations and key findings\n",
    "* Your top three recommendations based on your analysis"
   ]
  },
  {
   "cell_type": "markdown",
   "id": "3b292a3d",
   "metadata": {},
   "source": [
    "### Questions to ask myself:\n",
    "* What is the problem you are trying to solve?\n",
    "    - Find out annual members and casual riders use Cyclistic bike differently. \n",
    "    - When I find the difference of behavire, I will find the next question.\n",
    "    \n",
    "### Key tasks:\n",
    "\n",
    "* Find a difference between casual riders and annual members. \n"
   ]
  },
  {
   "cell_type": "code",
   "execution_count": null,
   "id": "937df650",
   "metadata": {},
   "outputs": [],
   "source": []
  },
  {
   "cell_type": "code",
   "execution_count": null,
   "id": "bd794279",
   "metadata": {},
   "outputs": [],
   "source": []
  },
  {
   "cell_type": "markdown",
   "id": "1ea5c4da",
   "metadata": {},
   "source": [
    "## PREPARE:\n",
    "\n",
    "Please go to the other notebook: \n"
   ]
  },
  {
   "cell_type": "markdown",
   "id": "c6cbefe7",
   "metadata": {},
   "source": [
    "## PROCESS"
   ]
  },
  {
   "cell_type": "code",
   "execution_count": null,
   "id": "3bd40dc7",
   "metadata": {},
   "outputs": [],
   "source": []
  }
 ],
 "metadata": {
  "kernelspec": {
   "display_name": "Python 3 (ipykernel)",
   "language": "python",
   "name": "python3"
  },
  "language_info": {
   "codemirror_mode": {
    "name": "ipython",
    "version": 3
   },
   "file_extension": ".py",
   "mimetype": "text/x-python",
   "name": "python",
   "nbconvert_exporter": "python",
   "pygments_lexer": "ipython3",
   "version": "3.9.12"
  }
 },
 "nbformat": 4,
 "nbformat_minor": 5
}
